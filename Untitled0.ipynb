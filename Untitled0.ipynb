{
  "nbformat": 4,
  "nbformat_minor": 0,
  "metadata": {
    "colab": {
      "provenance": [],
      "authorship_tag": "ABX9TyPROafwIPOv5Dk4HLN2bUyA",
      "include_colab_link": true
    },
    "kernelspec": {
      "name": "python3",
      "display_name": "Python 3"
    },
    "language_info": {
      "name": "python"
    }
  },
  "cells": [
    {
      "cell_type": "markdown",
      "metadata": {
        "id": "view-in-github",
        "colab_type": "text"
      },
      "source": [
        "<a href=\"https://colab.research.google.com/github/Tayyaba-bibi123/AI-lab-/blob/main/Untitled0.ipynb\" target=\"_parent\"><img src=\"https://colab.research.google.com/assets/colab-badge.svg\" alt=\"Open In Colab\"/></a>"
      ]
    },
    {
      "cell_type": "code",
      "execution_count": 1,
      "metadata": {
        "id": "oxOpMDQ9Jy_i"
      },
      "outputs": [],
      "source": [
        "import math\n",
        "\n",
        "class Node:\n",
        "    def __init__(self, state, parent, actions, totalCost):\n",
        "        self.state = state\n",
        "        self.parent = parent\n",
        "        self.actions = actions\n",
        "        self.totalCost = totalCost"
      ]
    },
    {
      "cell_type": "code",
      "source": [
        " def FindMin(frontier):\n",
        "            minValue = math.inf\n",
        "            node = ''\n",
        "            for i in frontier:\n",
        "                if minValue > frontier[i][1]:\n",
        "                    minValue = frontier[i][1]\n",
        "                    node = i\n",
        "            return node"
      ],
      "metadata": {
        "id": "XP4aD4oWJ9lu"
      },
      "execution_count": 2,
      "outputs": []
    },
    {
      "cell_type": "code",
      "source": [
        "def actionSequence(graph, initialState, goalState):\n",
        "            solution = [goalState]\n",
        "            currentParent = graph[goalState].parent\n",
        "            while currentParent != None:\n",
        "                solution.append(currentParent)\n",
        "                currentParent = graph[currentParent].parent\n",
        "            solution.reverse()\n",
        "            return solution"
      ],
      "metadata": {
        "id": "CA7FiI4lJ9oP"
      },
      "execution_count": 3,
      "outputs": []
    },
    {
      "cell_type": "code",
      "source": [
        "def UCS():\n",
        "            initialState = 'Arad'\n",
        "            goalState = 'Bucharest'\n",
        "            \n",
        "            graph = {'Oreadea': Node('Oreadea', None, [('Zerind',71), ('Sibiu',151)], 0),\n",
        "                     'Zerind': Node('Zerind', None, [('Oreadea',71), ('Arad',75)], 0),\n",
        "                     'Sibiu': Node('Sibiu', None, [('Oreadea',151), ('Arad',140), ('Fagaras',99)], 0),\n",
        "                     'Arad': Node('Arad', None, [('Zerind',75), ('Sibiu',140), ('Timisoara',118)], 0),\n",
        "                     'Fagaras': Node('Fagaras', None, [('Sibiu',99), ('Bucharest',211)], 0),\n",
        "                     'Timisoara': Node('Timisoara', None, [('Arad',118), ('Lugoj',111)], 0),\n",
        "                     'Rimnicu': Node('Rimnicu', None, [('Sibiu',80), ('Pitesti',97), ('Craiova',146)], 0),\n",
        "                     'Lugoj': Node('Lugpj', None, [('Timisoara',111), ('Mehadia',70)], 0),\n",
        "                     'Pitesti': Node('Pitesti', None, [('Rimnicu',97), ('Craiova', 138), ('Bucharest', 101)], 0),\n",
        "                     'Mehadia': Node('Mehadia', None, [('Lugoj',70), ('Drobeta',75)], 0),\n",
        "                     'Bucharest': Node('Bucharest', None, [('Fagaras', 211), ('Pitesti',101), ('Giurgiu', 90)], 0),\n",
        "                     'Neamt': Node('Neamt', None , [('Iasi',87)], 0),\n",
        "                     'Iasi': Node('Iasa', None, [('Neamt', 87), ('Vaslui',92)], 0),\n",
        "                     'Vaslui': Node('Vaslui', None, [('Iasi',92), ('Urziceni',142)], 0),\n",
        "                     'Urziceni': Node('Urziceni', None, [('Vaslui',142), ('Bucharest',85), ('Hirsova', 98)], 0),\n",
        "                     'Hirsova': Node('Hirsova', None, [('Urziceni',98), ('Eforie',86)], 0),\n",
        "                     'Eforie': Node('Eforie', None ,[('Hirsova',86)], 0),\n",
        "                     'Drobeta': Node('Drobeta', None, [('Mehadia',75), ('Craiova',120)], 0),\n",
        "                     'Craiova': Node('Craiova', None, [('Drobeta',120), ('Pitesti',138), ('Rimnicu', 146)], 0),\n",
        "                     'Giurgiu': Node('Giurgiu', None, [('Bucharest',90)], 0)}\n",
        "        \n",
        "            frontier = dict()\n",
        "            frontier[initialState] = (None, 0)\n",
        "            explored = []\n",
        "            while len(frontier) != 0:\n",
        "                currentNode = FindMin(frontier)\n",
        "                del frontier[currentNode]\n",
        "                if graph[currentNode].state == goalState:\n",
        "                    return actionSequence(graph, initialState, goalState)\n",
        "                explored.append(currentNode)\n",
        "              \n",
        "                for child in graph[currentNode].actions:\n",
        "                    currentCost = child[1] + graph[currentNode].totalCost\n",
        "                    if child[0] not in frontier and child[0] not in explored:\n",
        "                        graph[child[0]].parent = currentNode\n",
        "                        graph[child[0]].totalCost = currentCost\n",
        "                        frontier[child[0]] = (graph[child[0]].parent, graph[child[0]].totalCost)\n",
        "                    elif child[0] in frontier:\n",
        "                        if frontier[child[0]][1] < currentCost:\n",
        "                            graph[child[0]].parent = frontier[child[0]][0]\n",
        "                            graph[child[0]].totalCost = frontier[child[0]][1]\n",
        "                        else:\n",
        "                            frontier[child[0]] = (currentNode, currentCost)\n",
        "                            graph[child[0]].totalCost = frontier[child[0]][1]"
      ],
      "metadata": {
        "id": "Ocokerb3J9q4"
      },
      "execution_count": 4,
      "outputs": []
    },
    {
      "cell_type": "code",
      "source": [
        "sol = UCS()\n",
        "print(f\"Shortest path is: {sol}\")"
      ],
      "metadata": {
        "colab": {
          "base_uri": "https://localhost:8080/"
        },
        "id": "cjEdBHtvJ9so",
        "outputId": "5d0c2eed-5a85-41f8-fbcb-ac778e3d8d26"
      },
      "execution_count": 5,
      "outputs": [
        {
          "output_type": "stream",
          "name": "stdout",
          "text": [
            "Shortest path is: ['Arad', 'Sibiu', 'Fagaras', 'Bucharest']\n"
          ]
        }
      ]
    },
    {
      "cell_type": "code",
      "source": [
        "import math\n",
        "\n",
        "class Node:\n",
        "    def __init__(self, state, parent, actions, totalCost):\n",
        "        self.state = state\n",
        "        self.parent = parent\n",
        "        self.actions = actions\n",
        "        self.totalCost = totalCost"
      ],
      "metadata": {
        "id": "UU8bLd6iJ9ux"
      },
      "execution_count": 6,
      "outputs": []
    },
    {
      "cell_type": "code",
      "source": [
        "\n",
        "def FindMin(frontier):\n",
        "    minValue = math.inf\n",
        "    node = ''\n",
        "    for i in frontier:\n",
        "        if minValue > frontier[i][1]:\n",
        "            minValue = frontier[i][1]\n",
        "            node = i\n",
        "    return node"
      ],
      "metadata": {
        "id": "oNU_vs3yJ9xY"
      },
      "execution_count": 7,
      "outputs": []
    },
    {
      "cell_type": "code",
      "source": [
        "def actionSequence(graph, initialState, goalState):\n",
        "    solution = [goalState]\n",
        "    currentParent = graph[goalState].parent\n",
        "    while currentParent != None:\n",
        "        solution.append(currentParent)\n",
        "        currentParent = graph[currentParent].parent\n",
        "    solution.reverse()\n",
        "    return solution\n"
      ],
      "metadata": {
        "id": "cfof_zRJKhjf"
      },
      "execution_count": 8,
      "outputs": []
    },
    {
      "cell_type": "code",
      "source": [
        "\n",
        "def UCS():\n",
        "    initialState = 'D'\n",
        "    goalState = 'G'\n",
        "    \n",
        "    graph = {'A': Node('A', None, [('B',6), ('C',9), ('E',1)], 0),\n",
        "             'B': Node('B', None, [('A',6), ('D',3), ('E',4)], 0),\n",
        "             'C': Node('C', None, [('A',9), ('F',2), ('G',3)], 0),\n",
        "             'D': Node('D', None, [('B',3), ('E',5), ('F',7)], 0),\n",
        "             'E': Node('E', None, [('A',1), ('B',4), ('D',5), ('F',6)], 0),\n",
        "             'F': Node('F', None, [('C',2), ('E',6), ('D',7)], 0),\n",
        "             'G': Node('G', None, [('C',3)], 0)}\n",
        "    frontier = dict()\n",
        "    frontier[initialState] = (None, 0)\n",
        "    explored = []\n",
        "    \n",
        "    while len(frontier) != 0:\n",
        "        currentNode = FindMin(frontier)\n",
        "        del frontier[currentNode]\n",
        "        if graph[currentNode].state == goalState:\n",
        "            return actionSequence(graph, initialState, goalState)\n",
        "        explored.append(currentNode)\n",
        "        \n",
        "        for child in graph[currentNode].actions:\n",
        "            currentCost = child[1] + graph[currentNode].totalCost\n",
        "            if child[0] not in frontier and child[0] not in explored:\n",
        "                graph[child[0]].parent = currentNode\n",
        "                graph[child[0]].totalCost = currentCost\n",
        "                frontier[child[0]] = (graph[child[0]].parent, graph[child[0]].totalCost)\n",
        "            elif child[0] in frontier:\n",
        "                if frontier[child[0]][1] < currentCost:\n",
        "                    graph[child[0]].parent = frontier[child[0]][0]\n",
        "                    graph[child[0]].totalCost = frontier[child[0]][1]\n",
        "                else:\n",
        "                    frontier[child[0]] = (currentNode, currentCost)\n",
        "                    graph[child[0]].totalCost = frontier[child[0]][1]\n",
        "                    "
      ],
      "metadata": {
        "id": "05OgdxV7Ktwl"
      },
      "execution_count": 9,
      "outputs": []
    },
    {
      "cell_type": "code",
      "source": [
        "sol = UCS()\n",
        "print(f\"Shortest path is: {sol}\")"
      ],
      "metadata": {
        "colab": {
          "base_uri": "https://localhost:8080/"
        },
        "id": "zV363bpjK0oB",
        "outputId": "6234dcb7-399e-476d-8b13-924b0ba03a6d"
      },
      "execution_count": 10,
      "outputs": [
        {
          "output_type": "stream",
          "name": "stdout",
          "text": [
            "Shortest path is: ['D', 'B', 'A', 'C', 'G']\n"
          ]
        }
      ]
    }
  ]
}